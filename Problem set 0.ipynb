{
 "cells": [
  {
   "cell_type": "code",
   "execution_count": 5,
   "id": "bf37c655",
   "metadata": {},
   "outputs": [
    {
     "name": "stdout",
     "output_type": "stream",
     "text": [
      "50\n",
      "50\n"
     ]
    }
   ],
   "source": [
    "#indoor voice\n",
    "inp = input('')\n",
    "print(inp.lower())"
   ]
  },
  {
   "cell_type": "code",
   "execution_count": 10,
   "id": "0801fc92",
   "metadata": {},
   "outputs": [
    {
     "name": "stdout",
     "output_type": "stream",
     "text": [
      "This is CS50\n",
      "This...is...CS50\n"
     ]
    }
   ],
   "source": [
    "#Playback Speed\n",
    "inp = input('')\n",
    "print(inp.replace(' ','...'))"
   ]
  },
  {
   "cell_type": "code",
   "execution_count": 2,
   "id": "a17b75e4",
   "metadata": {},
   "outputs": [
    {
     "name": "stdout",
     "output_type": "stream",
     "text": [
      "hello :)  goodbye:(\n",
      "hello 🙂  goodbye☹️\n"
     ]
    }
   ],
   "source": [
    "#Making Faces\n",
    "def convert(n):\n",
    "    return n.replace(':)','🙂').replace(':(','☹️')\n",
    "\n",
    "inp = input('')\n",
    "inp = convert(inp)\n",
    "print(inp)"
   ]
  },
  {
   "cell_type": "code",
   "execution_count": 7,
   "id": "6f307562",
   "metadata": {},
   "outputs": [
    {
     "name": "stdout",
     "output_type": "stream",
     "text": [
      "m: 14\n",
      "E:  1260000000000000000\n"
     ]
    }
   ],
   "source": [
    "#Einstein\n",
    "c = 300000000\n",
    "m = int(input('m: '))\n",
    "E = m*c*c\n",
    "print('E: ', E)"
   ]
  },
  {
   "cell_type": "code",
   "execution_count": 8,
   "id": "4f448a8c",
   "metadata": {},
   "outputs": [
    {
     "name": "stdout",
     "output_type": "stream",
     "text": [
      "How much was the meal? $50.00\n",
      "What percentage would you like to tip? 15%\n",
      "Leave $7.50\n"
     ]
    }
   ],
   "source": [
    "#Tip Calculator\n",
    "def main():\n",
    "    dollars = dollars_to_float(input('How much was the meal? '))\n",
    "    percent = percent_to_float(input('What percentage would you like to tip? '))\n",
    "    tip = dollars*percent\n",
    "    print(f'Leave ${tip:.2f}')\n",
    "def dollars_to_float(d):\n",
    "    d=d.strip('$')\n",
    "    d = float(d)\n",
    "    return d\n",
    "def percent_to_float(p):\n",
    "    p = p.strip('%')\n",
    "    p = float(p)\n",
    "    p=p/100\n",
    "    return p\n",
    "main()"
   ]
  },
  {
   "cell_type": "code",
   "execution_count": null,
   "id": "b2885ad2",
   "metadata": {},
   "outputs": [],
   "source": []
  }
 ],
 "metadata": {
  "kernelspec": {
   "display_name": "Python 3 (ipykernel)",
   "language": "python",
   "name": "python3"
  },
  "language_info": {
   "codemirror_mode": {
    "name": "ipython",
    "version": 3
   },
   "file_extension": ".py",
   "mimetype": "text/x-python",
   "name": "python",
   "nbconvert_exporter": "python",
   "pygments_lexer": "ipython3",
   "version": "3.9.12"
  }
 },
 "nbformat": 4,
 "nbformat_minor": 5
}
