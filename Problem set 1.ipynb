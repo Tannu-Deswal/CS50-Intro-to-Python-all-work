{
 "cells": [
  {
   "cell_type": "code",
   "execution_count": 5,
   "id": "56702651",
   "metadata": {},
   "outputs": [
    {
     "name": "stdout",
     "output_type": "stream",
     "text": [
      "What is the Answer to the Great Question of Life, the Universe, and Everything? 50\n",
      "No\n"
     ]
    }
   ],
   "source": [
    "#Deep Thought\n",
    "def main():\n",
    "    answer = input('What is the Answer to the Great Question of Life, the Universe, and Everything? ')\n",
    "    ans = correct(answer)\n",
    "    print(ans)\n",
    "def correct(answer):\n",
    "    if answer == '42' or answer == 'forty-two' or answer == 'forty two':\n",
    "        return 'Yes'\n",
    "    else:\n",
    "        return 'No'\n",
    "    \n",
    "main()"
   ]
  },
  {
   "cell_type": "code",
   "execution_count": 24,
   "id": "4f9165ce",
   "metadata": {},
   "outputs": [
    {
     "name": "stdout",
     "output_type": "stream",
     "text": [
      "Greetings: What's happening?\n",
      "$100\n"
     ]
    }
   ],
   "source": [
    "#Home Federal Savings Bank\n",
    "def main():\n",
    "    greetings = input('Greetings: ')\n",
    "    ans = Hgreeting(greetings)\n",
    "    print(ans)\n",
    "def Hgreeting(greet):\n",
    "    if greet.lower().startswith('hello'):\n",
    "        return '$0'\n",
    "    elif greet.lower().startswith('h'):\n",
    "        return '$20'\n",
    "    else:\n",
    "        return '$100'\n",
    "\n",
    "main()"
   ]
  },
  {
   "cell_type": "code",
   "execution_count": 38,
   "id": "a3faefbf",
   "metadata": {},
   "outputs": [
    {
     "name": "stdout",
     "output_type": "stream",
     "text": [
      "File name: document.pdf\n",
      "application/pdf\n"
     ]
    }
   ],
   "source": [
    "#File Extensions\n",
    "def main():\n",
    "    file_name = input('File name: ')\n",
    "    file = convert(file_name)\n",
    "    print(file)\n",
    "def convert(file):\n",
    "    if file.endswith('.gif') or file.endswith('.png'):\n",
    "        return ('image/'+file[-3:])\n",
    "    elif file.endswith('.jpg') or file.endswith('.jpeg'):\n",
    "        return ('image/jpeg')\n",
    "    elif file.endswith('.pdf'):\n",
    "        return ('application/pdf')\n",
    "    elif file.endswith('.txt'):\n",
    "        return ('text/plain')\n",
    "    elif file.endswith('.zip'):\n",
    "        return ('application/zip')\n",
    "    else:\n",
    "        return ('application/octet-stream')\n",
    "main()\n"
   ]
  },
  {
   "cell_type": "code",
   "execution_count": 55,
   "id": "5c6342f3",
   "metadata": {},
   "outputs": [
    {
     "name": "stdout",
     "output_type": "stream",
     "text": [
      "Expression: 50 / 5\n",
      "10.0\n"
     ]
    }
   ],
   "source": [
    "#Math Interpreter\n",
    "def main():\n",
    "    inp = input('Expression: ')\n",
    "    inp_list = inp.split()\n",
    "    data = [int(inp_list[0]), inp_list[1], int(inp_list[2])]\n",
    "    x,y,z = data\n",
    "    result = interpret(x,y,z)\n",
    "    print(result)\n",
    "    \n",
    "def interpret(x,y,z):\n",
    "    if y == '+':\n",
    "        return float(x+z)\n",
    "    elif y == '-':\n",
    "        return float(x-z)\n",
    "    elif y == '*':\n",
    "        return float(x*z)\n",
    "    elif y == '/':\n",
    "        return float(x/z)\n",
    "    else:\n",
    "        return('Enter valid operation.')\n",
    "\n",
    "main()"
   ]
  },
  {
   "cell_type": "code",
   "execution_count": 77,
   "id": "f9b4ff1f",
   "metadata": {},
   "outputs": [
    {
     "name": "stdout",
     "output_type": "stream",
     "text": [
      "What time is it? 6:32 p.m.\n",
      "Dinner time\n"
     ]
    }
   ],
   "source": [
    "#Meal Time\n",
    "def main():\n",
    "    inp = input('What time is it? ').strip().lower()\n",
    "    if inp.endswith('a.m.') or inp.endswith('p.m.'):\n",
    "        inp_list = inp.split(' ')\n",
    "        inp_main = inp_list[0]\n",
    "        if inp.endswith('a.m.'):\n",
    "            out = convert(inp_main)\n",
    "        elif inp.endswith('p.m.'):\n",
    "            out = convert(inp_main)\n",
    "            if out<12.00:\n",
    "                out+=12.00\n",
    "    else:\n",
    "        out = convert(inp)\n",
    "        \n",
    "    if 7.00<= out <=8.00:\n",
    "        print('Breakfast time')\n",
    "    elif 12.00<= out <=13.00:\n",
    "        print('Lunch time')\n",
    "    elif 18.00<= out <=19.00:\n",
    "        print('Dinner time')\n",
    "\n",
    "def convert(time):\n",
    "    hours, minutes = time.split(':')\n",
    "    hours, minutes = float(hours), float(minutes)\n",
    "    minutes = minutes/60\n",
    "    result = hours+minutes\n",
    "    return result\n",
    "\n",
    "if __name__ == '__main__':\n",
    "    main()"
   ]
  },
  {
   "cell_type": "code",
   "execution_count": null,
   "id": "54f4b2ef",
   "metadata": {},
   "outputs": [],
   "source": []
  }
 ],
 "metadata": {
  "kernelspec": {
   "display_name": "Python 3 (ipykernel)",
   "language": "python",
   "name": "python3"
  },
  "language_info": {
   "codemirror_mode": {
    "name": "ipython",
    "version": 3
   },
   "file_extension": ".py",
   "mimetype": "text/x-python",
   "name": "python",
   "nbconvert_exporter": "python",
   "pygments_lexer": "ipython3",
   "version": "3.9.12"
  }
 },
 "nbformat": 4,
 "nbformat_minor": 5
}
