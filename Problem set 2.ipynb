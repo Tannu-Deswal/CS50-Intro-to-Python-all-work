{
 "cells": [
  {
   "cell_type": "code",
   "execution_count": 6,
   "id": "4b4cfc8a",
   "metadata": {},
   "outputs": [
    {
     "name": "stdout",
     "output_type": "stream",
     "text": [
      "camelCase: preferredFirstName\n",
      "snake_case:  preferred_first_name\n"
     ]
    }
   ],
   "source": [
    "#camelCase\n",
    "def main():\n",
    "    inp = input('camelCase: ')\n",
    "    out = camel_split(inp)\n",
    "    print('snake_case: ', out)\n",
    "    \n",
    "def camel_split(inp):\n",
    "    inp_list = [inp[0]]\n",
    "    for char in inp[1:]:\n",
    "        if char.isupper():\n",
    "            inp_list.extend(['_', char])\n",
    "        else:\n",
    "            inp_list.append(char)\n",
    "    return ''.join(inp_list).lower()\n",
    "    \n",
    "main()"
   ]
  },
  {
   "cell_type": "code",
   "execution_count": 2,
   "id": "dad99b44",
   "metadata": {},
   "outputs": [
    {
     "name": "stdout",
     "output_type": "stream",
     "text": [
      "Amount Due:  50\n",
      "Insert Coin: 30\n",
      "Amount Due:  50\n",
      "Insert Coin: 25\n",
      "Amount Due:  25\n",
      "Insert Coin: 10\n",
      "Amount Due:  15\n",
      "Insert Coin: 25\n",
      "Change Owed:  10\n"
     ]
    }
   ],
   "source": [
    "#Coke Machine\n",
    "def main():\n",
    "    due = 50\n",
    "    while due>0:\n",
    "        print('Amount Due: ', due)\n",
    "        inp = int(input('Insert Coin: '))\n",
    "        if inp==5 or inp==10 or inp==25:\n",
    "            due = due-inp\n",
    "        else:\n",
    "            continue\n",
    "    if due==0:\n",
    "        print('Change Owed: ', due)\n",
    "    elif due<0:\n",
    "        print('Change Owed: ', abs(due))\n",
    "                \n",
    "main()"
   ]
  },
  {
   "cell_type": "code",
   "execution_count": 8,
   "id": "ea2d8375",
   "metadata": {},
   "outputs": [
    {
     "name": "stdout",
     "output_type": "stream",
     "text": [
      "Input: What's your name?\n",
      "Wht's yr nm?\n"
     ]
    }
   ],
   "source": [
    "#Just setting up my twttr\n",
    "def main():\n",
    "    inp = input('Input: ')\n",
    "    out = remove(inp)\n",
    "    print(out)\n",
    "def remove(inp):\n",
    "    vowels = ['a','e','i','o','u','A','E','I','O','U']\n",
    "    result = ''\n",
    "    for i in range(len(inp)):\n",
    "        if inp[i] not in vowels:\n",
    "            result = result+inp[i]\n",
    "    return result\n",
    "main()"
   ]
  },
  {
   "cell_type": "code",
   "execution_count": 14,
   "id": "38dbaca8",
   "metadata": {},
   "outputs": [
    {
     "name": "stdout",
     "output_type": "stream",
     "text": [
      "Plate: OUTATIME\n",
      "Invalid\n"
     ]
    }
   ],
   "source": [
    "#Vanity Plates\n",
    "import string\n",
    "def main():\n",
    "    plate = input('Plate: ')\n",
    "    if is_valid(plate):\n",
    "        print('Valid')\n",
    "    else:\n",
    "        print('Invalid')\n",
    "\n",
    "def num_there(s):\n",
    "    return any(i.isdigit() for i in s)\n",
    "\n",
    "def is_valid(s):\n",
    "    if not(2<=len(s)<=6):\n",
    "        return False\n",
    "    if not(s[:2].isalpha()):\n",
    "        return False\n",
    "    num_found = False\n",
    "    for i, char in enumerate(s):\n",
    "        if char.isdigit():\n",
    "            if char == '0' and not num_found:\n",
    "                return False\n",
    "            num_found = True\n",
    "        elif num_found:\n",
    "            return False\n",
    "    for char in s:\n",
    "        if char in string.punctuation:\n",
    "            return False\n",
    "    return True\n",
    "                    \n",
    "main()"
   ]
  },
  {
   "cell_type": "code",
   "execution_count": 23,
   "id": "8f4a73ad",
   "metadata": {},
   "outputs": [
    {
     "name": "stdout",
     "output_type": "stream",
     "text": [
      "Item: Tomato\n"
     ]
    }
   ],
   "source": [
    "#Nutrition Facts\n",
    "def main():\n",
    "    fruit_list = {'apple':130, 'avocado':50, 'banana':110, 'cantaloupe':50,\n",
    "                  'grapefruit':60, 'grapes':90, 'honeydew':50, 'kiwifruit':90,\n",
    "                  'lemon':15, 'lime':20, 'nectarine':60, 'orange':80,\n",
    "                  'peach':60, 'pear':100, 'pineapple':50, 'plums':70,\n",
    "                  'strawberries':50, 'sweet cherries':100, 'tangerine':50,\n",
    "                  'watermelon':80}\n",
    "    inp = input('Item: ').lower()\n",
    "    if inp in fruit_list:\n",
    "        print('Calories: ', fruit_list[inp])\n",
    "main()"
   ]
  }
 ],
 "metadata": {
  "kernelspec": {
   "display_name": "Python 3 (ipykernel)",
   "language": "python",
   "name": "python3"
  },
  "language_info": {
   "codemirror_mode": {
    "name": "ipython",
    "version": 3
   },
   "file_extension": ".py",
   "mimetype": "text/x-python",
   "name": "python",
   "nbconvert_exporter": "python",
   "pygments_lexer": "ipython3",
   "version": "3.9.12"
  }
 },
 "nbformat": 4,
 "nbformat_minor": 5
}
