{
 "cells": [
  {
   "cell_type": "code",
   "execution_count": 5,
   "id": "e87d2cc9",
   "metadata": {},
   "outputs": [
    {
     "name": "stdout",
     "output_type": "stream",
     "text": [
      "Fraction: 1/0\n",
      "Fraction: 0/1\n",
      "E\n"
     ]
    }
   ],
   "source": [
    "#Fuel Gauge\n",
    "def main():\n",
    "    try:\n",
    "        inp = input('Fraction: ').strip()\n",
    "        x,y = inp.split('/')\n",
    "        x,y = int(x), int(y)\n",
    "        if x>y:\n",
    "            raise ValueError\n",
    "    except (ZeroDivisionError, ValueError):\n",
    "        return main()\n",
    "    out=convert(x/y)\n",
    "    print(out)\n",
    "\n",
    "def convert(fuel):\n",
    "    perc = fuel*100\n",
    "    if perc>=99:\n",
    "        return('F')\n",
    "    elif perc<=1:\n",
    "        return('E')\n",
    "    else:\n",
    "        return(f'{round(perc)}%')\n",
    "    \n",
    "main()"
   ]
  },
  {
   "cell_type": "code",
   "execution_count": 4,
   "id": "2a8a61d2",
   "metadata": {},
   "outputs": [
    {
     "name": "stdout",
     "output_type": "stream",
     "text": [
      "Item: baja taco\n",
      "$4.25\n",
      "Item: tortilla salad\n",
      "$8.0\n",
      "Item: done\n",
      "Total: $12.25\n"
     ]
    }
   ],
   "source": [
    "#Felipe's Taqueria\n",
    "def main():\n",
    "    food = {\"Baja Taco\": 4.25, \"Burrito\": 7.50, \"Bowl\": 8.50, \"Nachos\": 11.00,\n",
    "    \"Quesadilla\": 8.50, \"Super Burrito\": 8.50, \"Super Quesadilla\": 9.50,\n",
    "    \"Taco\": 3.00, \"Tortilla Salad\": 8.00 }\n",
    "    total = 0\n",
    "    while True:\n",
    "        try:\n",
    "            item = input('Item: ').title()\n",
    "            if item in food:\n",
    "                print(f'${food[item]}')\n",
    "                total += food[item]\n",
    "            elif item.lower()=='done':\n",
    "                print(f'Total: ${total:.2f}')\n",
    "                break\n",
    "#         except EOFError:\n",
    "#             print(f'Total: ${total:.2f}')\n",
    "#             break\n",
    "        except KeyError:\n",
    "            pass\n",
    "\n",
    "main()"
   ]
  },
  {
   "cell_type": "code",
   "execution_count": 7,
   "id": "3329a34e",
   "metadata": {},
   "outputs": [
    {
     "name": "stdout",
     "output_type": "stream",
     "text": [
      "tortilla\n",
      "sweet potato\n",
      "done\n",
      "1 SWEET POTATO\n",
      "1 TORTILLA\n"
     ]
    }
   ],
   "source": [
    "#Grocery List\n",
    "def main():        \n",
    "    items = []\n",
    "    freq = {}\n",
    "    while True:\n",
    "        try:\n",
    "            item = input('').upper().strip()\n",
    "            if item.lower() == 'done':\n",
    "                for key in sorted(freq.keys()):\n",
    "                    print(f'{freq[key]} {key}')\n",
    "                break\n",
    "            items.append(item)\n",
    "            freq[item] = freq.get(item, 0)+1\n",
    "        except KeyError:\n",
    "            pass\n",
    "\n",
    "main()"
   ]
  },
  {
   "cell_type": "code",
   "execution_count": 17,
   "id": "10d7e828",
   "metadata": {},
   "outputs": [
    {
     "name": "stdout",
     "output_type": "stream",
     "text": [
      "Date: 23/6/1912\n",
      "Date: december 80, 1980\n",
      "Date: 9/8/1636\n",
      "1636-09-08\n"
     ]
    }
   ],
   "source": [
    "#Outdated\n",
    "import string\n",
    "def main():\n",
    "    months = { \"January\": 1, \"February\":2, \"March\":3, \"April\":4, \"May\":5,\n",
    "    \"June\":6, \"July\":7, \"August\":8, \"September\":9, \"October\":10,\n",
    "    \"November\":11, \"December\":12 }\n",
    "    while True:\n",
    "        try:\n",
    "            date = input('Date: ').strip()\n",
    "            if '/' in date:\n",
    "                month, day, year = date.split('/')\n",
    "                month = int(month)\n",
    "                year = int(year)\n",
    "                day = int(day)\n",
    "            elif ',' in date:\n",
    "                month_str, day_year = date.split(' ', 1)\n",
    "                day, year = day_year.split(',')\n",
    "                day = int(day)\n",
    "                year = int(year)\n",
    "                month = months[month_str.title()]\n",
    "            else:\n",
    "                continue\n",
    "            if 1<=month<=12 and 1<=day<=31:\n",
    "                print(f'{year}-{month:02}-{day:02}')\n",
    "                break\n",
    "        except (ValueError, KeyError):\n",
    "            continue\n",
    "\n",
    "main()"
   ]
  }
 ],
 "metadata": {
  "kernelspec": {
   "display_name": "Python 3 (ipykernel)",
   "language": "python",
   "name": "python3"
  },
  "language_info": {
   "codemirror_mode": {
    "name": "ipython",
    "version": 3
   },
   "file_extension": ".py",
   "mimetype": "text/x-python",
   "name": "python",
   "nbconvert_exporter": "python",
   "pygments_lexer": "ipython3",
   "version": "3.9.12"
  }
 },
 "nbformat": 4,
 "nbformat_minor": 5
}
