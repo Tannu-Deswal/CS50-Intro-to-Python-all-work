{
 "cells": [
  {
   "cell_type": "code",
   "execution_count": 1,
   "id": "f579c6b2",
   "metadata": {},
   "outputs": [
    {
     "name": "stdout",
     "output_type": "stream",
     "text": [
      "Requirement already satisfied: emoji in c:\\users\\hp\\anaconda3\\lib\\site-packages (2.14.1)\n"
     ]
    }
   ],
   "source": [
    "#Emojize\n",
    "!pip install emoji"
   ]
  },
  {
   "cell_type": "code",
   "execution_count": 2,
   "id": "bf7d0916",
   "metadata": {},
   "outputs": [
    {
     "name": "stdout",
     "output_type": "stream",
     "text": [
      "Input: :rose:\n",
      "🌹\n"
     ]
    }
   ],
   "source": [
    "import emoji\n",
    "inp = input('Input: ')\n",
    "print(emoji.emojize(inp, language = 'alias'))"
   ]
  },
  {
   "cell_type": "code",
   "execution_count": 1,
   "id": "188f0aa6",
   "metadata": {},
   "outputs": [
    {
     "name": "stdout",
     "output_type": "stream",
     "text": [
      "Requirement already satisfied: pyfiglet in c:\\users\\hp\\anaconda3\\lib\\site-packages (1.0.2)\n"
     ]
    }
   ],
   "source": [
    "#Frank, Ian and Glen's Letters\n",
    "!pip install pyfiglet"
   ]
  },
  {
   "cell_type": "code",
   "execution_count": 4,
   "id": "d7242101",
   "metadata": {},
   "outputs": [
    {
     "name": "stdout",
     "output_type": "stream",
     "text": [
      "    __  __     ____    \n",
      "   / / / /__  / / /___ \n",
      "  / /_/ / _ \\/ / / __ \\\n",
      " / __  /  __/ / / /_/ /\n",
      "/_/ /_/\\___/_/_/\\____/ \n",
      "                       \n",
      "\n"
     ]
    }
   ],
   "source": [
    "from pyfiglet import Figlet\n",
    "import sys\n",
    "!python Figlet_script.py -f slant"
   ]
  },
  {
   "cell_type": "code",
   "execution_count": 1,
   "id": "90a872a0",
   "metadata": {},
   "outputs": [
    {
     "name": "stdout",
     "output_type": "stream",
     "text": [
      "Collecting inflect\n",
      "  Downloading inflect-7.5.0-py3-none-any.whl (35 kB)\n",
      "Collecting typeguard>=4.0.1\n",
      "  Downloading typeguard-4.4.2-py3-none-any.whl (35 kB)\n",
      "Requirement already satisfied: more_itertools>=8.5.0 in c:\\users\\hp\\anaconda3\\lib\\site-packages (from inflect) (10.3.0)\n",
      "Collecting typing_extensions>=4.10.0\n",
      "  Downloading typing_extensions-4.13.2-py3-none-any.whl (45 kB)\n",
      "Requirement already satisfied: importlib_metadata>=3.6 in c:\\users\\hp\\anaconda3\\lib\\site-packages (from typeguard>=4.0.1->inflect) (4.11.3)\n",
      "Requirement already satisfied: zipp>=0.5 in c:\\users\\hp\\anaconda3\\lib\\site-packages (from importlib_metadata>=3.6->typeguard>=4.0.1->inflect) (3.7.0)\n",
      "Installing collected packages: typing-extensions, typeguard, inflect\n",
      "  Attempting uninstall: typing-extensions\n",
      "    Found existing installation: typing-extensions 4.8.0\n",
      "    Uninstalling typing-extensions-4.8.0:\n",
      "      Successfully uninstalled typing-extensions-4.8.0\n",
      "Successfully installed inflect-7.5.0 typeguard-4.4.2 typing-extensions-4.13.2\n"
     ]
    },
    {
     "name": "stderr",
     "output_type": "stream",
     "text": [
      "ERROR: pip's dependency resolver does not currently take into account all the packages that are installed. This behaviour is the source of the following dependency conflicts.\n",
      "streamlit 1.28.2 requires tenacity<9,>=8.1.0, but you have tenacity 9.0.0 which is incompatible.\n"
     ]
    }
   ],
   "source": [
    "!pip install inflect"
   ]
  },
  {
   "cell_type": "code",
   "execution_count": 12,
   "id": "7bdb4268",
   "metadata": {},
   "outputs": [
    {
     "name": "stdout",
     "output_type": "stream",
     "text": [
      "Name: Liesel\n",
      "Name: Friedrich\n",
      "Name: Louisa\n",
      "Name: done\n",
      "Adieu, adieu, to Liesel, Friedrich, and Louisa\n"
     ]
    }
   ],
   "source": [
    "#Adieu,Adieu\n",
    "import inflect\n",
    "p = inflect.engine()\n",
    "def main():\n",
    "    names=[]\n",
    "    while True:\n",
    "        try:\n",
    "            inp = input('Name: ')\n",
    "            if inp.lower() == 'done':\n",
    "                break\n",
    "            names.append(inp)\n",
    "#         except EOFError:\n",
    "#             break\n",
    "#         names.append(inp)\n",
    "        except:\n",
    "            pass\n",
    "    print(f'Adieu, adieu, to {p.join(names)}')\n",
    "main()"
   ]
  },
  {
   "cell_type": "code",
   "execution_count": 3,
   "id": "bf6132fd",
   "metadata": {},
   "outputs": [
    {
     "name": "stdout",
     "output_type": "stream",
     "text": [
      "Level: 10\n",
      "Guess: 5\n",
      "Too large\n",
      "Guess: 2\n",
      "Too large\n",
      "Guess: 1\n",
      "Just Right\n"
     ]
    }
   ],
   "source": [
    "#Guessing Game\n",
    "import random as r\n",
    "def main():\n",
    "    while True:\n",
    "        try:\n",
    "            level = int(input('Level: '))\n",
    "            if level>0:\n",
    "                break\n",
    "        except:\n",
    "            pass\n",
    "    ans = r.randint(1, level)\n",
    "    while True:\n",
    "        try:\n",
    "            guess = int(input('Guess: '))\n",
    "            if guess<=0:\n",
    "                continue\n",
    "            \n",
    "            if guess<ans:\n",
    "                print('Too small')\n",
    "            elif guess>ans:\n",
    "                print('Too large')\n",
    "            else:\n",
    "                print('Just Right')\n",
    "                break\n",
    "        except:\n",
    "            pass\n",
    "\n",
    "main()"
   ]
  },
  {
   "cell_type": "code",
   "execution_count": 1,
   "id": "b41abebb",
   "metadata": {},
   "outputs": [
    {
     "name": "stdout",
     "output_type": "stream",
     "text": [
      "Level: 1\n",
      "2 + 3 = 5\n",
      "7 + 5 = 5\n",
      "EEE\n",
      "7 + 5 = 12\n",
      "4 + 5 = 9\n",
      "3 + 6 = 9\n",
      "1 + 1 = 2\n",
      "9 + 1 = 1\n",
      "EEE\n",
      "9 + 1 = 10\n",
      "8 + 9 = 17\n",
      "5 + 7 = 12\n",
      "2 + 1 = 3\n",
      "7 + 0 = 7\n",
      "Score: 8\n"
     ]
    }
   ],
   "source": [
    "#Little Professor\n",
    "import random as r\n",
    "def main():\n",
    "    level = get_level()\n",
    "    score = 0\n",
    "    for _ in range(10):\n",
    "        a, b = generate_integer(level)\n",
    "        correct = a+b\n",
    "        tries = 0\n",
    "        counted = False\n",
    "        while tries<3:\n",
    "            try:\n",
    "                inp = int(input(f'{a} + {b} = '))\n",
    "                if inp == correct:\n",
    "                    if tries == 0:\n",
    "                        score+=1\n",
    "                    break\n",
    "                else:\n",
    "                    print('EEE')\n",
    "            except:\n",
    "                print('EEE')\n",
    "            tries+=1\n",
    "    if tries == 3 and inp!=correct:\n",
    "        print(f'{a} + {b} = {correct}')\n",
    "    print(f'Score: {score}')\n",
    "\n",
    "def get_level():\n",
    "    while True:\n",
    "        try:\n",
    "            level = int(input('Level: '))\n",
    "            if 0<level<4:\n",
    "                return level\n",
    "        except:\n",
    "            pass\n",
    "    \n",
    "def generate_integer(level):\n",
    "    if level == 1:\n",
    "        lo, hi = 0, 9\n",
    "    elif level == 2:\n",
    "        lo, hi = 10, 99\n",
    "    else:\n",
    "        lo, hi = 100, 999\n",
    "    return(r.randint(lo, hi), r.randint(lo, hi))\n",
    "        \n",
    "    \n",
    "if __name__ == '__main__':\n",
    "    main()"
   ]
  },
  {
   "cell_type": "code",
   "execution_count": 1,
   "id": "462f2528",
   "metadata": {},
   "outputs": [
    {
     "name": "stdout",
     "output_type": "stream",
     "text": [
      "Requirement already satisfied: requests in c:\\users\\hp\\anaconda3\\lib\\site-packages (2.27.1)\n",
      "Requirement already satisfied: charset-normalizer~=2.0.0 in c:\\users\\hp\\anaconda3\\lib\\site-packages (from requests) (2.0.4)\n",
      "Requirement already satisfied: urllib3<1.27,>=1.21.1 in c:\\users\\hp\\anaconda3\\lib\\site-packages (from requests) (1.26.9)\n",
      "Requirement already satisfied: idna<4,>=2.5 in c:\\users\\hp\\anaconda3\\lib\\site-packages (from requests) (3.3)\n",
      "Requirement already satisfied: certifi>=2017.4.17 in c:\\users\\hp\\anaconda3\\lib\\site-packages (from requests) (2024.8.30)\n"
     ]
    }
   ],
   "source": [
    "#Bitcoin Price Index\n",
    "!pip install requests"
   ]
  },
  {
   "cell_type": "code",
   "execution_count": 21,
   "id": "cd6a6860",
   "metadata": {},
   "outputs": [
    {
     "name": "stdout",
     "output_type": "stream",
     "text": [
      "$138,609.8835\n"
     ]
    }
   ],
   "source": [
    "!python Bitcoin_script.py 1.5"
   ]
  }
 ],
 "metadata": {
  "kernelspec": {
   "display_name": "Python 3 (ipykernel)",
   "language": "python",
   "name": "python3"
  },
  "language_info": {
   "codemirror_mode": {
    "name": "ipython",
    "version": 3
   },
   "file_extension": ".py",
   "mimetype": "text/x-python",
   "name": "python",
   "nbconvert_exporter": "python",
   "pygments_lexer": "ipython3",
   "version": "3.9.12"
  }
 },
 "nbformat": 4,
 "nbformat_minor": 5
}
