{
 "cells": [
  {
   "cell_type": "code",
   "execution_count": 7,
   "id": "e826008f",
   "metadata": {
    "scrolled": true
   },
   "outputs": [
    {
     "name": "stdout",
     "output_type": "stream",
     "text": [
      "============================= test session starts =============================\n",
      "platform win32 -- Python 3.9.12, pytest-7.1.1, pluggy-1.0.0\n",
      "rootdir: C:\\Users\\HP\\CS50 Intro to Python Harvard\n",
      "plugins: anyio-3.5.0, typeguard-4.4.2\n",
      "collected 1 item\n",
      "\n",
      "Problem_set_5a_script.py .                                               [100%]\n",
      "\n",
      "============================== 1 passed in 0.02s ==============================\n"
     ]
    }
   ],
   "source": [
    "#Testing my twttr\n",
    "!pytest Problem_set_5a_script.py"
   ]
  },
  {
   "cell_type": "code",
   "execution_count": 10,
   "id": "d50182be",
   "metadata": {},
   "outputs": [
    {
     "name": "stdout",
     "output_type": "stream",
     "text": [
      "============================= test session starts =============================\n",
      "platform win32 -- Python 3.9.12, pytest-7.1.1, pluggy-1.0.0\n",
      "rootdir: C:\\Users\\HP\\CS50 Intro to Python Harvard\n",
      "plugins: anyio-3.5.0, typeguard-4.4.2\n",
      "collected 1 item\n",
      "\n",
      "Problem_set_5b_script.py .                                               [100%]\n",
      "\n",
      "============================== 1 passed in 0.02s ==============================\n"
     ]
    }
   ],
   "source": [
    "#Back to the Bank\n",
    "!pytest Problem_set_5b_script.py"
   ]
  },
  {
   "cell_type": "code",
   "execution_count": 11,
   "id": "7fba1010",
   "metadata": {},
   "outputs": [
    {
     "name": "stdout",
     "output_type": "stream",
     "text": [
      "============================= test session starts =============================\n",
      "platform win32 -- Python 3.9.12, pytest-7.1.1, pluggy-1.0.0\n",
      "rootdir: C:\\Users\\HP\\CS50 Intro to Python Harvard\n",
      "plugins: anyio-3.5.0, typeguard-4.4.2\n",
      "collected 1 item\n",
      "\n",
      "Problem_set_5c_script.py .                                               [100%]\n",
      "\n",
      "============================== 1 passed in 0.03s ==============================\n"
     ]
    }
   ],
   "source": [
    "#Re-requesting a Vanity Plate\n",
    "!pytest Problem_set_5c_script.py"
   ]
  },
  {
   "cell_type": "code",
   "execution_count": 13,
   "id": "c85bfa1f",
   "metadata": {},
   "outputs": [
    {
     "name": "stdout",
     "output_type": "stream",
     "text": [
      "============================= test session starts =============================\n",
      "platform win32 -- Python 3.9.12, pytest-7.1.1, pluggy-1.0.0\n",
      "rootdir: C:\\Users\\HP\\CS50 Intro to Python Harvard\n",
      "plugins: anyio-3.5.0, typeguard-4.4.2\n",
      "collected 3 items\n",
      "\n",
      "Problem_set_5d_script.py ...                                             [100%]\n",
      "\n",
      "============================== 3 passed in 0.08s ==============================\n"
     ]
    }
   ],
   "source": [
    "#Refueling\n",
    "!pytest Problem_set_5d_script.py"
   ]
  }
 ],
 "metadata": {
  "kernelspec": {
   "display_name": "Python 3 (ipykernel)",
   "language": "python",
   "name": "python3"
  },
  "language_info": {
   "codemirror_mode": {
    "name": "ipython",
    "version": 3
   },
   "file_extension": ".py",
   "mimetype": "text/x-python",
   "name": "python",
   "nbconvert_exporter": "python",
   "pygments_lexer": "ipython3",
   "version": "3.9.12"
  }
 },
 "nbformat": 4,
 "nbformat_minor": 5
}
