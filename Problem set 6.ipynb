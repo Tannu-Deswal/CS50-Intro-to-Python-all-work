{
 "cells": [
  {
   "cell_type": "code",
   "execution_count": 6,
   "id": "ef54017e",
   "metadata": {},
   "outputs": [
    {
     "name": "stdout",
     "output_type": "stream",
     "text": [
      "17\n"
     ]
    }
   ],
   "source": [
    "#Lines of Code\n",
    "!python LOC_script.py Problem_set_5d_script.py"
   ]
  },
  {
   "cell_type": "code",
   "execution_count": 1,
   "id": "426ac17e",
   "metadata": {},
   "outputs": [
    {
     "name": "stdout",
     "output_type": "stream",
     "text": [
      "Requirement already satisfied: tabulate in c:\\users\\hp\\anaconda3\\lib\\site-packages (0.8.9)\n"
     ]
    }
   ],
   "source": [
    "#Pizza Py\n",
    "!pip install tabulate"
   ]
  },
  {
   "cell_type": "code",
   "execution_count": 3,
   "id": "f2f4802b",
   "metadata": {},
   "outputs": [
    {
     "name": "stdout",
     "output_type": "stream",
     "text": [
      "+-----------------+---------+---------+\n",
      "| Regular Pizza   | Small   | Large   |\n",
      "+=================+=========+=========+\n",
      "| Cheese          | $13.50  | $18.95  |\n",
      "+-----------------+---------+---------+\n",
      "| 1 topping       | $14.75  | $20.95  |\n",
      "+-----------------+---------+---------+\n",
      "| 2 toppings      | $15.95  | $22.95  |\n",
      "+-----------------+---------+---------+\n",
      "| 3 toppings      | $16.95  | $24.95  |\n",
      "+-----------------+---------+---------+\n",
      "| Special         | $18.50  | $26.95  |\n",
      "+-----------------+---------+---------+\n"
     ]
    }
   ],
   "source": [
    "!python Pizza_py_script.py regular.csv"
   ]
  },
  {
   "cell_type": "code",
   "execution_count": 10,
   "id": "ba900e2d",
   "metadata": {},
   "outputs": [],
   "source": [
    "#Scourgify\n",
    "!python Scourgify_script.py before.csv after.csv"
   ]
  },
  {
   "cell_type": "code",
   "execution_count": 11,
   "id": "fdc23bf1",
   "metadata": {},
   "outputs": [
    {
     "name": "stdout",
     "output_type": "stream",
     "text": [
      "Requirement already satisfied: Pillow in c:\\users\\hp\\anaconda3\\lib\\site-packages (9.0.1)\n"
     ]
    }
   ],
   "source": [
    "#CS50 P-Shirt\n",
    "!pip install Pillow"
   ]
  },
  {
   "cell_type": "code",
   "execution_count": 7,
   "id": "e2dde51a",
   "metadata": {},
   "outputs": [],
   "source": [
    "!python shirt_script.py before1.jpg after1.jpg"
   ]
  }
 ],
 "metadata": {
  "kernelspec": {
   "display_name": "Python 3 (ipykernel)",
   "language": "python",
   "name": "python3"
  },
  "language_info": {
   "codemirror_mode": {
    "name": "ipython",
    "version": 3
   },
   "file_extension": ".py",
   "mimetype": "text/x-python",
   "name": "python",
   "nbconvert_exporter": "python",
   "pygments_lexer": "ipython3",
   "version": "3.9.12"
  }
 },
 "nbformat": 4,
 "nbformat_minor": 5
}
