{
 "cells": [
  {
   "cell_type": "code",
   "execution_count": 5,
   "id": "37a0214a",
   "metadata": {},
   "outputs": [
    {
     "name": "stdout",
     "output_type": "stream",
     "text": [
      "============================= test session starts =============================\n",
      "platform win32 -- Python 3.9.12, pytest-7.1.1, pluggy-1.0.0\n",
      "rootdir: C:\\Users\\HP\\CS50 Intro to Python Harvard\n",
      "plugins: anyio-3.5.0, typeguard-4.4.2\n",
      "collected 1 item\n",
      "\n",
      "Problem_set_7a_script.py .                                               [100%]\n",
      "\n",
      "============================== 1 passed in 0.03s ==============================\n"
     ]
    }
   ],
   "source": [
    "#NUMB3RS\n",
    "!pytest Problem_set_7a_script.py"
   ]
  },
  {
   "cell_type": "code",
   "execution_count": 10,
   "id": "e130e291",
   "metadata": {},
   "outputs": [
    {
     "name": "stdout",
     "output_type": "stream",
     "text": [
      "HTML: <iframe width=\"560\" height=\"315\" src=\"https://cs50.harvard.edu/python\"></iframe>\n",
      "None\n"
     ]
    }
   ],
   "source": [
    "#Watch on YouTube\n",
    "import re\n",
    "\n",
    "def main():\n",
    "    print(parse(input('HTML: ')))\n",
    "    \n",
    "def parse(s):\n",
    "    pattern = r'https?://(?:www\\.)?youtube\\.com/embed/([a-zA-Z0-9_-]{11})'\n",
    "    match = re.search(pattern, s)\n",
    "    if match:\n",
    "        return f'https://youtu.be/{match.group(1)}'\n",
    "    else:\n",
    "        return None\n",
    "    \n",
    "if __name__ == '__main__':\n",
    "    main()"
   ]
  },
  {
   "cell_type": "code",
   "execution_count": 7,
   "id": "b01f2dc4",
   "metadata": {},
   "outputs": [
    {
     "name": "stdout",
     "output_type": "stream",
     "text": [
      "============================= test session starts =============================\n",
      "platform win32 -- Python 3.9.12, pytest-7.1.1, pluggy-1.0.0\n",
      "rootdir: C:\\Users\\HP\\CS50 Intro to Python Harvard\n",
      "plugins: anyio-3.5.0, typeguard-4.4.2\n",
      "collected 1 item\n",
      "\n",
      "Problem_set_7c_script.py .                                               [100%]\n",
      "\n",
      "============================== 1 passed in 0.03s ==============================\n"
     ]
    }
   ],
   "source": [
    "#Working 9 to 5\n",
    "!pytest Problem_set_7c_script.py"
   ]
  },
  {
   "cell_type": "code",
   "execution_count": 9,
   "id": "d03e6fc0",
   "metadata": {},
   "outputs": [
    {
     "name": "stdout",
     "output_type": "stream",
     "text": [
      "============================= test session starts =============================\n",
      "platform win32 -- Python 3.9.12, pytest-7.1.1, pluggy-1.0.0\n",
      "rootdir: C:\\Users\\HP\\CS50 Intro to Python Harvard\n",
      "plugins: anyio-3.5.0, typeguard-4.4.2\n",
      "collected 1 item\n",
      "\n",
      "Problem_set_7d_script.py .                                               [100%]\n",
      "\n",
      "============================== 1 passed in 0.07s ==============================\n"
     ]
    }
   ],
   "source": [
    "#Regualar, um, Expressions\n",
    "!pytest Problem_set_7d_script.py"
   ]
  },
  {
   "cell_type": "code",
   "execution_count": 10,
   "id": "f4cb018a",
   "metadata": {},
   "outputs": [
    {
     "name": "stdout",
     "output_type": "stream",
     "text": [
      "Requirement already satisfied: validators in c:\\users\\hp\\anaconda3\\lib\\site-packages (0.22.0)\n"
     ]
    }
   ],
   "source": [
    "#Response Validation\n",
    "!pip install validators"
   ]
  },
  {
   "cell_type": "code",
   "execution_count": 6,
   "id": "0899e434",
   "metadata": {},
   "outputs": [
    {
     "name": "stdout",
     "output_type": "stream",
     "text": [
      "What's your email address? malan@harvard.edu\n",
      "Valid\n"
     ]
    }
   ],
   "source": [
    "import validators\n",
    "def main():\n",
    "    mail = input(\"What's your email address? \").strip()\n",
    "    out = validate(mail)\n",
    "    print(out)\n",
    "def validate(mail):\n",
    "    if validators.email(mail):\n",
    "        return 'Valid'\n",
    "    else:\n",
    "        return 'Invalid'\n",
    "    \n",
    "if __name__ == '__main__':\n",
    "    main()"
   ]
  }
 ],
 "metadata": {
  "kernelspec": {
   "display_name": "Python 3 (ipykernel)",
   "language": "python",
   "name": "python3"
  },
  "language_info": {
   "codemirror_mode": {
    "name": "ipython",
    "version": 3
   },
   "file_extension": ".py",
   "mimetype": "text/x-python",
   "name": "python",
   "nbconvert_exporter": "python",
   "pygments_lexer": "ipython3",
   "version": "3.9.12"
  }
 },
 "nbformat": 4,
 "nbformat_minor": 5
}
