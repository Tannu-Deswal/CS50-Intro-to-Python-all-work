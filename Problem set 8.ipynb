{
 "cells": [
  {
   "cell_type": "code",
   "execution_count": 20,
   "id": "caa83700",
   "metadata": {},
   "outputs": [
    {
     "name": "stdout",
     "output_type": "stream",
     "text": [
      "============================= test session starts =============================\n",
      "platform win32 -- Python 3.9.12, pytest-7.1.1, pluggy-1.0.0\n",
      "rootdir: C:\\Users\\HP\\CS50 Intro to Python Harvard\n",
      "plugins: anyio-3.5.0, typeguard-4.4.2\n",
      "collected 4 items\n",
      "\n",
      "Problem_set_8a_script.py ....                                            [100%]\n",
      "\n",
      "============================== 4 passed in 1.81s ==============================\n"
     ]
    }
   ],
   "source": [
    "#Seasons of Love\n",
    "!pytest Problem_set_8a_script.py"
   ]
  },
  {
   "cell_type": "code",
   "execution_count": 26,
   "id": "aaf6693e",
   "metadata": {},
   "outputs": [
    {
     "name": "stdout",
     "output_type": "stream",
     "text": [
      "============================= test session starts =============================\n",
      "platform win32 -- Python 3.9.12, pytest-7.1.1, pluggy-1.0.0\n",
      "rootdir: C:\\Users\\HP\\CS50 Intro to Python Harvard\n",
      "plugins: anyio-3.5.0, typeguard-4.4.2\n",
      "collected 4 items\n",
      "\n",
      "Problem_set_8b_script.py ....                                            [100%]\n",
      "\n",
      "============================== 4 passed in 0.02s ==============================\n"
     ]
    }
   ],
   "source": [
    "#Cookie Jar\n",
    "!pytest Problem_set_8b_script.py"
   ]
  },
  {
   "cell_type": "code",
   "execution_count": 1,
   "id": "9e175d6f",
   "metadata": {},
   "outputs": [
    {
     "name": "stdout",
     "output_type": "stream",
     "text": [
      "Collecting fpdf2\n",
      "  Downloading fpdf2-2.8.3-py2.py3-none-any.whl (245 kB)\n",
      "Requirement already satisfied: defusedxml in c:\\users\\hp\\anaconda3\\lib\\site-packages (from fpdf2) (0.7.1)\n",
      "Collecting fonttools>=4.34.0\n",
      "  Downloading fonttools-4.57.0-cp39-cp39-win_amd64.whl (2.2 MB)\n",
      "Requirement already satisfied: Pillow!=9.2.*,>=6.2.2 in c:\\users\\hp\\anaconda3\\lib\\site-packages (from fpdf2) (9.0.1)\n",
      "Installing collected packages: fonttools, fpdf2\n",
      "  Attempting uninstall: fonttools\n",
      "    Found existing installation: fonttools 4.25.0\n",
      "    Uninstalling fonttools-4.25.0:\n",
      "      Successfully uninstalled fonttools-4.25.0\n",
      "Successfully installed fonttools-4.57.0 fpdf2-2.8.3\n"
     ]
    }
   ],
   "source": [
    "#CS50 Shirtificate\n",
    "!pip install fpdf2"
   ]
  },
  {
   "cell_type": "code",
   "execution_count": 12,
   "id": "e4087803",
   "metadata": {},
   "outputs": [
    {
     "name": "stdout",
     "output_type": "stream",
     "text": [
      "Name: banesh\n"
     ]
    },
    {
     "name": "stderr",
     "output_type": "stream",
     "text": [
      "C:\\Users\\HP\\AppData\\Local\\Temp\\ipykernel_16656\\2029534053.py:11: DeprecationWarning: Substituting font arial by core font helvetica - This is deprecated since v2.7.8, and will soon be removed\n",
      "  pdf.set_font(\"Arial\", 'b', size=28)\n",
      "C:\\Users\\HP\\AppData\\Local\\Temp\\ipykernel_16656\\2029534053.py:12: DeprecationWarning: The parameter \"ln\" is deprecated since v2.5.2. Instead of ln=True use new_x=XPos.LMARGIN, new_y=YPos.NEXT.\n",
      "  pdf.cell(0, 30, 'CS50 Shirtificate', ln = True, align = 'C')\n",
      "C:\\Users\\HP\\AppData\\Local\\Temp\\ipykernel_16656\\2029534053.py:14: DeprecationWarning: Substituting font arial by core font helvetica - This is deprecated since v2.7.8, and will soon be removed\n",
      "  pdf.set_font(\"Arial\", 'b', size=20)\n"
     ]
    }
   ],
   "source": [
    "from PIL import Image\n",
    "from fpdf import FPDF\n",
    "def main():\n",
    "    name = input('Name: ').strip()\n",
    "    shirtificate(name)\n",
    "    \n",
    "def shirtificate(name):\n",
    "    pdf = FPDF()\n",
    "    pdf.add_page()\n",
    "    pdf.set_auto_page_break(auto=False)\n",
    "    pdf.set_font(\"Arial\", 'b', size=28)\n",
    "    pdf.cell(0, 30, 'CS50 Shirtificate', ln = True, align = 'C')\n",
    "    pdf.image('shirtificate.png', x=0, y=40, w=210)\n",
    "    pdf.set_font(\"Arial\", 'b', size=20)\n",
    "    pdf.set_text_color(255, 255, 255)\n",
    "    pdf.set_y(140)\n",
    "    pdf.cell(0, 10, f'{name} took CS50', align = 'C')\n",
    "    pdf.output('shirtificate.pdf')\n",
    "    \n",
    "if __name__ == '__main__':\n",
    "    main()"
   ]
  }
 ],
 "metadata": {
  "kernelspec": {
   "display_name": "Python 3 (ipykernel)",
   "language": "python",
   "name": "python3"
  },
  "language_info": {
   "codemirror_mode": {
    "name": "ipython",
    "version": 3
   },
   "file_extension": ".py",
   "mimetype": "text/x-python",
   "name": "python",
   "nbconvert_exporter": "python",
   "pygments_lexer": "ipython3",
   "version": "3.9.12"
  }
 },
 "nbformat": 4,
 "nbformat_minor": 5
}
